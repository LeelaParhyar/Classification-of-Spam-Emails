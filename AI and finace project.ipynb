{
  "nbformat": 4,
  "nbformat_minor": 0,
  "metadata": {
    "colab": {
      "provenance": [],
      "toc_visible": true,
      "authorship_tag": "ABX9TyMWW1+h9GL0sYcT38PqxFaO",
      "include_colab_link": true
    },
    "kernelspec": {
      "name": "python3",
      "display_name": "Python 3"
    },
    "language_info": {
      "name": "python"
    }
  },
  "cells": [
    {
      "cell_type": "markdown",
      "metadata": {
        "id": "view-in-github",
        "colab_type": "text"
      },
      "source": [
        "<a href=\"https://colab.research.google.com/github/LeelaParhyar/Classification-of-Spam-Emails/blob/main/AI%20and%20finace%20project.ipynb\" target=\"_parent\"><img src=\"https://colab.research.google.com/assets/colab-badge.svg\" alt=\"Open In Colab\"/></a>"
      ]
    },
    {
      "cell_type": "markdown",
      "source": [
        "Step 1: Setup & Data Collection"
      ],
      "metadata": {
        "id": "jOkjzYZlTgmM"
      }
    },
    {
      "cell_type": "markdown",
      "source": [
        "1.1 Install Required Packages"
      ],
      "metadata": {
        "id": "paP0qG-aIeZc"
      }
    },
    {
      "cell_type": "code",
      "execution_count": 1,
      "metadata": {
        "colab": {
          "base_uri": "https://localhost:8080/"
        },
        "id": "MV6_xWHFDUdb",
        "outputId": "2f93cdda-656f-456e-92a0-bcde27bedcad"
      },
      "outputs": [
        {
          "output_type": "stream",
          "name": "stdout",
          "text": [
            "Requirement already satisfied: yfinance in /usr/local/lib/python3.11/dist-packages (0.2.61)\n",
            "Requirement already satisfied: pandas in /usr/local/lib/python3.11/dist-packages (2.2.2)\n",
            "Requirement already satisfied: numpy in /usr/local/lib/python3.11/dist-packages (2.0.2)\n",
            "Requirement already satisfied: matplotlib in /usr/local/lib/python3.11/dist-packages (3.10.0)\n",
            "Requirement already satisfied: scipy in /usr/local/lib/python3.11/dist-packages (1.15.3)\n",
            "Requirement already satisfied: requests>=2.31 in /usr/local/lib/python3.11/dist-packages (from yfinance) (2.32.3)\n",
            "Requirement already satisfied: multitasking>=0.0.7 in /usr/local/lib/python3.11/dist-packages (from yfinance) (0.0.11)\n",
            "Requirement already satisfied: platformdirs>=2.0.0 in /usr/local/lib/python3.11/dist-packages (from yfinance) (4.3.8)\n",
            "Requirement already satisfied: pytz>=2022.5 in /usr/local/lib/python3.11/dist-packages (from yfinance) (2025.2)\n",
            "Requirement already satisfied: frozendict>=2.3.4 in /usr/local/lib/python3.11/dist-packages (from yfinance) (2.4.6)\n",
            "Requirement already satisfied: peewee>=3.16.2 in /usr/local/lib/python3.11/dist-packages (from yfinance) (3.18.1)\n",
            "Requirement already satisfied: beautifulsoup4>=4.11.1 in /usr/local/lib/python3.11/dist-packages (from yfinance) (4.13.4)\n",
            "Requirement already satisfied: curl_cffi>=0.7 in /usr/local/lib/python3.11/dist-packages (from yfinance) (0.11.1)\n",
            "Requirement already satisfied: protobuf>=3.19.0 in /usr/local/lib/python3.11/dist-packages (from yfinance) (5.29.4)\n",
            "Requirement already satisfied: websockets>=13.0 in /usr/local/lib/python3.11/dist-packages (from yfinance) (15.0.1)\n",
            "Requirement already satisfied: python-dateutil>=2.8.2 in /usr/local/lib/python3.11/dist-packages (from pandas) (2.9.0.post0)\n",
            "Requirement already satisfied: tzdata>=2022.7 in /usr/local/lib/python3.11/dist-packages (from pandas) (2025.2)\n",
            "Requirement already satisfied: contourpy>=1.0.1 in /usr/local/lib/python3.11/dist-packages (from matplotlib) (1.3.2)\n",
            "Requirement already satisfied: cycler>=0.10 in /usr/local/lib/python3.11/dist-packages (from matplotlib) (0.12.1)\n",
            "Requirement already satisfied: fonttools>=4.22.0 in /usr/local/lib/python3.11/dist-packages (from matplotlib) (4.58.0)\n",
            "Requirement already satisfied: kiwisolver>=1.3.1 in /usr/local/lib/python3.11/dist-packages (from matplotlib) (1.4.8)\n",
            "Requirement already satisfied: packaging>=20.0 in /usr/local/lib/python3.11/dist-packages (from matplotlib) (24.2)\n",
            "Requirement already satisfied: pillow>=8 in /usr/local/lib/python3.11/dist-packages (from matplotlib) (11.2.1)\n",
            "Requirement already satisfied: pyparsing>=2.3.1 in /usr/local/lib/python3.11/dist-packages (from matplotlib) (3.2.3)\n",
            "Requirement already satisfied: soupsieve>1.2 in /usr/local/lib/python3.11/dist-packages (from beautifulsoup4>=4.11.1->yfinance) (2.7)\n",
            "Requirement already satisfied: typing-extensions>=4.0.0 in /usr/local/lib/python3.11/dist-packages (from beautifulsoup4>=4.11.1->yfinance) (4.13.2)\n",
            "Requirement already satisfied: cffi>=1.12.0 in /usr/local/lib/python3.11/dist-packages (from curl_cffi>=0.7->yfinance) (1.17.1)\n",
            "Requirement already satisfied: certifi>=2024.2.2 in /usr/local/lib/python3.11/dist-packages (from curl_cffi>=0.7->yfinance) (2025.4.26)\n",
            "Requirement already satisfied: six>=1.5 in /usr/local/lib/python3.11/dist-packages (from python-dateutil>=2.8.2->pandas) (1.17.0)\n",
            "Requirement already satisfied: charset-normalizer<4,>=2 in /usr/local/lib/python3.11/dist-packages (from requests>=2.31->yfinance) (3.4.2)\n",
            "Requirement already satisfied: idna<4,>=2.5 in /usr/local/lib/python3.11/dist-packages (from requests>=2.31->yfinance) (3.10)\n",
            "Requirement already satisfied: urllib3<3,>=1.21.1 in /usr/local/lib/python3.11/dist-packages (from requests>=2.31->yfinance) (2.4.0)\n",
            "Requirement already satisfied: pycparser in /usr/local/lib/python3.11/dist-packages (from cffi>=1.12.0->curl_cffi>=0.7->yfinance) (2.22)\n"
          ]
        }
      ],
      "source": [
        "!pip install yfinance pandas numpy matplotlib scipy"
      ]
    },
    {
      "cell_type": "markdown",
      "source": [
        "1.2 Import Libraries"
      ],
      "metadata": {
        "id": "SNcpUL0JIjTK"
      }
    },
    {
      "cell_type": "code",
      "source": [
        "import yfinance as yf\n",
        "import pandas as pd\n",
        "import numpy as np\n",
        "import matplotlib.pyplot as plt\n",
        "from scipy.stats import norm\n",
        "\n",
        "%matplotlib inline\n"
      ],
      "metadata": {
        "id": "UF8uLwfnEb1N"
      },
      "execution_count": 2,
      "outputs": []
    },
    {
      "cell_type": "markdown",
      "source": [
        "1.3 Download Data & Prepare Returns"
      ],
      "metadata": {
        "id": "1JyoztCFIply"
      }
    },
    {
      "cell_type": "code",
      "source": [
        "# Select financial assets and date range\n",
        "tickers = ['AAPL', 'MSFT']  # You can change these tickers\n",
        "start_date = '2010-01-01'\n",
        "end_date = '2025-05-27'\n",
        "\n",
        "# Download adjusted close prices\n",
        "data = yf.download(tickers, start=start_date, end=end_date)\n",
        "\n",
        "# Check if data is downloaded properly\n",
        "if data.empty:\n",
        "    raise ValueError(\"No data downloaded. Please check tickers and internet connection.\")\n",
        "\n",
        "# Extract Adjusted Close\n",
        "adj_close = data['Adj Close'] if 'Adj Close' in data else data\n",
        "\n",
        "# Drop rows with missing values\n",
        "adj_close.dropna(inplace=True)\n",
        "\n",
        "# Compute daily simple returns\n",
        "returns = adj_close.pct_change().dropna()\n",
        "\n",
        "# Split data into training and test sets\n",
        "train_returns = returns.loc['2010-01-01':'2023-12-31']\n",
        "test_returns = returns.loc['2024-01-01':]\n",
        "\n",
        "# Display sample\n",
        "train_returns.head()\n"
      ],
      "metadata": {
        "colab": {
          "base_uri": "https://localhost:8080/",
          "height": 373
        },
        "id": "eOLC5Z02F8_G",
        "outputId": "6cdef930-2496-4a61-f976-83cdd16ca332"
      },
      "execution_count": 4,
      "outputs": [
        {
          "output_type": "stream",
          "name": "stderr",
          "text": [
            "[*********************100%***********************]  2 of 2 completed\n"
          ]
        },
        {
          "output_type": "execute_result",
          "data": {
            "text/plain": [
              "Price          Close                    High                     Low  \\\n",
              "Ticker          AAPL      MSFT          AAPL          MSFT      AAPL   \n",
              "Date                                                                   \n",
              "2010-01-05  0.001729  0.000323  5.081716e-03  1.380138e-07  0.004096   \n",
              "2010-01-06 -0.015907 -0.006137 -1.670112e-03 -6.431769e-04 -0.011724   \n",
              "2010-01-07 -0.001848 -0.010400 -1.500698e-02 -1.222638e-02 -0.008066   \n",
              "2010-01-08  0.006648  0.006897  1.641701e-07  5.863287e-03  0.000048   \n",
              "2010-01-11 -0.008821 -0.012720  4.717056e-03 -3.886225e-03 -0.002918   \n",
              "\n",
              "Price                     Open              Volume            \n",
              "Ticker          MSFT      AAPL      MSFT      AAPL      MSFT  \n",
              "Date                                                          \n",
              "2010-01-05  0.001635  0.005482  0.007512  0.219098  0.295256  \n",
              "2010-01-06 -0.003916 -0.001025  0.000972 -0.082646  0.169505  \n",
              "2010-01-07 -0.010812 -0.012268 -0.008096 -0.135882 -0.131014  \n",
              "2010-01-08  0.001656 -0.006848 -0.011427 -0.061871  0.012613  \n",
              "2010-01-11 -0.003968  0.011888  0.014200  0.032660  0.342933  "
            ],
            "text/html": [
              "\n",
              "  <div id=\"df-25d23bde-62e3-4ae0-a780-e862f730425e\" class=\"colab-df-container\">\n",
              "    <div>\n",
              "<style scoped>\n",
              "    .dataframe tbody tr th:only-of-type {\n",
              "        vertical-align: middle;\n",
              "    }\n",
              "\n",
              "    .dataframe tbody tr th {\n",
              "        vertical-align: top;\n",
              "    }\n",
              "\n",
              "    .dataframe thead tr th {\n",
              "        text-align: left;\n",
              "    }\n",
              "\n",
              "    .dataframe thead tr:last-of-type th {\n",
              "        text-align: right;\n",
              "    }\n",
              "</style>\n",
              "<table border=\"1\" class=\"dataframe\">\n",
              "  <thead>\n",
              "    <tr>\n",
              "      <th>Price</th>\n",
              "      <th colspan=\"2\" halign=\"left\">Close</th>\n",
              "      <th colspan=\"2\" halign=\"left\">High</th>\n",
              "      <th colspan=\"2\" halign=\"left\">Low</th>\n",
              "      <th colspan=\"2\" halign=\"left\">Open</th>\n",
              "      <th colspan=\"2\" halign=\"left\">Volume</th>\n",
              "    </tr>\n",
              "    <tr>\n",
              "      <th>Ticker</th>\n",
              "      <th>AAPL</th>\n",
              "      <th>MSFT</th>\n",
              "      <th>AAPL</th>\n",
              "      <th>MSFT</th>\n",
              "      <th>AAPL</th>\n",
              "      <th>MSFT</th>\n",
              "      <th>AAPL</th>\n",
              "      <th>MSFT</th>\n",
              "      <th>AAPL</th>\n",
              "      <th>MSFT</th>\n",
              "    </tr>\n",
              "    <tr>\n",
              "      <th>Date</th>\n",
              "      <th></th>\n",
              "      <th></th>\n",
              "      <th></th>\n",
              "      <th></th>\n",
              "      <th></th>\n",
              "      <th></th>\n",
              "      <th></th>\n",
              "      <th></th>\n",
              "      <th></th>\n",
              "      <th></th>\n",
              "    </tr>\n",
              "  </thead>\n",
              "  <tbody>\n",
              "    <tr>\n",
              "      <th>2010-01-05</th>\n",
              "      <td>0.001729</td>\n",
              "      <td>0.000323</td>\n",
              "      <td>5.081716e-03</td>\n",
              "      <td>1.380138e-07</td>\n",
              "      <td>0.004096</td>\n",
              "      <td>0.001635</td>\n",
              "      <td>0.005482</td>\n",
              "      <td>0.007512</td>\n",
              "      <td>0.219098</td>\n",
              "      <td>0.295256</td>\n",
              "    </tr>\n",
              "    <tr>\n",
              "      <th>2010-01-06</th>\n",
              "      <td>-0.015907</td>\n",
              "      <td>-0.006137</td>\n",
              "      <td>-1.670112e-03</td>\n",
              "      <td>-6.431769e-04</td>\n",
              "      <td>-0.011724</td>\n",
              "      <td>-0.003916</td>\n",
              "      <td>-0.001025</td>\n",
              "      <td>0.000972</td>\n",
              "      <td>-0.082646</td>\n",
              "      <td>0.169505</td>\n",
              "    </tr>\n",
              "    <tr>\n",
              "      <th>2010-01-07</th>\n",
              "      <td>-0.001848</td>\n",
              "      <td>-0.010400</td>\n",
              "      <td>-1.500698e-02</td>\n",
              "      <td>-1.222638e-02</td>\n",
              "      <td>-0.008066</td>\n",
              "      <td>-0.010812</td>\n",
              "      <td>-0.012268</td>\n",
              "      <td>-0.008096</td>\n",
              "      <td>-0.135882</td>\n",
              "      <td>-0.131014</td>\n",
              "    </tr>\n",
              "    <tr>\n",
              "      <th>2010-01-08</th>\n",
              "      <td>0.006648</td>\n",
              "      <td>0.006897</td>\n",
              "      <td>1.641701e-07</td>\n",
              "      <td>5.863287e-03</td>\n",
              "      <td>0.000048</td>\n",
              "      <td>0.001656</td>\n",
              "      <td>-0.006848</td>\n",
              "      <td>-0.011427</td>\n",
              "      <td>-0.061871</td>\n",
              "      <td>0.012613</td>\n",
              "    </tr>\n",
              "    <tr>\n",
              "      <th>2010-01-11</th>\n",
              "      <td>-0.008821</td>\n",
              "      <td>-0.012720</td>\n",
              "      <td>4.717056e-03</td>\n",
              "      <td>-3.886225e-03</td>\n",
              "      <td>-0.002918</td>\n",
              "      <td>-0.003968</td>\n",
              "      <td>0.011888</td>\n",
              "      <td>0.014200</td>\n",
              "      <td>0.032660</td>\n",
              "      <td>0.342933</td>\n",
              "    </tr>\n",
              "  </tbody>\n",
              "</table>\n",
              "</div>\n",
              "    <div class=\"colab-df-buttons\">\n",
              "\n",
              "  <div class=\"colab-df-container\">\n",
              "    <button class=\"colab-df-convert\" onclick=\"convertToInteractive('df-25d23bde-62e3-4ae0-a780-e862f730425e')\"\n",
              "            title=\"Convert this dataframe to an interactive table.\"\n",
              "            style=\"display:none;\">\n",
              "\n",
              "  <svg xmlns=\"http://www.w3.org/2000/svg\" height=\"24px\" viewBox=\"0 -960 960 960\">\n",
              "    <path d=\"M120-120v-720h720v720H120Zm60-500h600v-160H180v160Zm220 220h160v-160H400v160Zm0 220h160v-160H400v160ZM180-400h160v-160H180v160Zm440 0h160v-160H620v160ZM180-180h160v-160H180v160Zm440 0h160v-160H620v160Z\"/>\n",
              "  </svg>\n",
              "    </button>\n",
              "\n",
              "  <style>\n",
              "    .colab-df-container {\n",
              "      display:flex;\n",
              "      gap: 12px;\n",
              "    }\n",
              "\n",
              "    .colab-df-convert {\n",
              "      background-color: #E8F0FE;\n",
              "      border: none;\n",
              "      border-radius: 50%;\n",
              "      cursor: pointer;\n",
              "      display: none;\n",
              "      fill: #1967D2;\n",
              "      height: 32px;\n",
              "      padding: 0 0 0 0;\n",
              "      width: 32px;\n",
              "    }\n",
              "\n",
              "    .colab-df-convert:hover {\n",
              "      background-color: #E2EBFA;\n",
              "      box-shadow: 0px 1px 2px rgba(60, 64, 67, 0.3), 0px 1px 3px 1px rgba(60, 64, 67, 0.15);\n",
              "      fill: #174EA6;\n",
              "    }\n",
              "\n",
              "    .colab-df-buttons div {\n",
              "      margin-bottom: 4px;\n",
              "    }\n",
              "\n",
              "    [theme=dark] .colab-df-convert {\n",
              "      background-color: #3B4455;\n",
              "      fill: #D2E3FC;\n",
              "    }\n",
              "\n",
              "    [theme=dark] .colab-df-convert:hover {\n",
              "      background-color: #434B5C;\n",
              "      box-shadow: 0px 1px 3px 1px rgba(0, 0, 0, 0.15);\n",
              "      filter: drop-shadow(0px 1px 2px rgba(0, 0, 0, 0.3));\n",
              "      fill: #FFFFFF;\n",
              "    }\n",
              "  </style>\n",
              "\n",
              "    <script>\n",
              "      const buttonEl =\n",
              "        document.querySelector('#df-25d23bde-62e3-4ae0-a780-e862f730425e button.colab-df-convert');\n",
              "      buttonEl.style.display =\n",
              "        google.colab.kernel.accessAllowed ? 'block' : 'none';\n",
              "\n",
              "      async function convertToInteractive(key) {\n",
              "        const element = document.querySelector('#df-25d23bde-62e3-4ae0-a780-e862f730425e');\n",
              "        const dataTable =\n",
              "          await google.colab.kernel.invokeFunction('convertToInteractive',\n",
              "                                                    [key], {});\n",
              "        if (!dataTable) return;\n",
              "\n",
              "        const docLinkHtml = 'Like what you see? Visit the ' +\n",
              "          '<a target=\"_blank\" href=https://colab.research.google.com/notebooks/data_table.ipynb>data table notebook</a>'\n",
              "          + ' to learn more about interactive tables.';\n",
              "        element.innerHTML = '';\n",
              "        dataTable['output_type'] = 'display_data';\n",
              "        await google.colab.output.renderOutput(dataTable, element);\n",
              "        const docLink = document.createElement('div');\n",
              "        docLink.innerHTML = docLinkHtml;\n",
              "        element.appendChild(docLink);\n",
              "      }\n",
              "    </script>\n",
              "  </div>\n",
              "\n",
              "\n",
              "    <div id=\"df-51df2d6b-4f87-46bb-a0ce-c0215774e472\">\n",
              "      <button class=\"colab-df-quickchart\" onclick=\"quickchart('df-51df2d6b-4f87-46bb-a0ce-c0215774e472')\"\n",
              "                title=\"Suggest charts\"\n",
              "                style=\"display:none;\">\n",
              "\n",
              "<svg xmlns=\"http://www.w3.org/2000/svg\" height=\"24px\"viewBox=\"0 0 24 24\"\n",
              "     width=\"24px\">\n",
              "    <g>\n",
              "        <path d=\"M19 3H5c-1.1 0-2 .9-2 2v14c0 1.1.9 2 2 2h14c1.1 0 2-.9 2-2V5c0-1.1-.9-2-2-2zM9 17H7v-7h2v7zm4 0h-2V7h2v10zm4 0h-2v-4h2v4z\"/>\n",
              "    </g>\n",
              "</svg>\n",
              "      </button>\n",
              "\n",
              "<style>\n",
              "  .colab-df-quickchart {\n",
              "      --bg-color: #E8F0FE;\n",
              "      --fill-color: #1967D2;\n",
              "      --hover-bg-color: #E2EBFA;\n",
              "      --hover-fill-color: #174EA6;\n",
              "      --disabled-fill-color: #AAA;\n",
              "      --disabled-bg-color: #DDD;\n",
              "  }\n",
              "\n",
              "  [theme=dark] .colab-df-quickchart {\n",
              "      --bg-color: #3B4455;\n",
              "      --fill-color: #D2E3FC;\n",
              "      --hover-bg-color: #434B5C;\n",
              "      --hover-fill-color: #FFFFFF;\n",
              "      --disabled-bg-color: #3B4455;\n",
              "      --disabled-fill-color: #666;\n",
              "  }\n",
              "\n",
              "  .colab-df-quickchart {\n",
              "    background-color: var(--bg-color);\n",
              "    border: none;\n",
              "    border-radius: 50%;\n",
              "    cursor: pointer;\n",
              "    display: none;\n",
              "    fill: var(--fill-color);\n",
              "    height: 32px;\n",
              "    padding: 0;\n",
              "    width: 32px;\n",
              "  }\n",
              "\n",
              "  .colab-df-quickchart:hover {\n",
              "    background-color: var(--hover-bg-color);\n",
              "    box-shadow: 0 1px 2px rgba(60, 64, 67, 0.3), 0 1px 3px 1px rgba(60, 64, 67, 0.15);\n",
              "    fill: var(--button-hover-fill-color);\n",
              "  }\n",
              "\n",
              "  .colab-df-quickchart-complete:disabled,\n",
              "  .colab-df-quickchart-complete:disabled:hover {\n",
              "    background-color: var(--disabled-bg-color);\n",
              "    fill: var(--disabled-fill-color);\n",
              "    box-shadow: none;\n",
              "  }\n",
              "\n",
              "  .colab-df-spinner {\n",
              "    border: 2px solid var(--fill-color);\n",
              "    border-color: transparent;\n",
              "    border-bottom-color: var(--fill-color);\n",
              "    animation:\n",
              "      spin 1s steps(1) infinite;\n",
              "  }\n",
              "\n",
              "  @keyframes spin {\n",
              "    0% {\n",
              "      border-color: transparent;\n",
              "      border-bottom-color: var(--fill-color);\n",
              "      border-left-color: var(--fill-color);\n",
              "    }\n",
              "    20% {\n",
              "      border-color: transparent;\n",
              "      border-left-color: var(--fill-color);\n",
              "      border-top-color: var(--fill-color);\n",
              "    }\n",
              "    30% {\n",
              "      border-color: transparent;\n",
              "      border-left-color: var(--fill-color);\n",
              "      border-top-color: var(--fill-color);\n",
              "      border-right-color: var(--fill-color);\n",
              "    }\n",
              "    40% {\n",
              "      border-color: transparent;\n",
              "      border-right-color: var(--fill-color);\n",
              "      border-top-color: var(--fill-color);\n",
              "    }\n",
              "    60% {\n",
              "      border-color: transparent;\n",
              "      border-right-color: var(--fill-color);\n",
              "    }\n",
              "    80% {\n",
              "      border-color: transparent;\n",
              "      border-right-color: var(--fill-color);\n",
              "      border-bottom-color: var(--fill-color);\n",
              "    }\n",
              "    90% {\n",
              "      border-color: transparent;\n",
              "      border-bottom-color: var(--fill-color);\n",
              "    }\n",
              "  }\n",
              "</style>\n",
              "\n",
              "      <script>\n",
              "        async function quickchart(key) {\n",
              "          const quickchartButtonEl =\n",
              "            document.querySelector('#' + key + ' button');\n",
              "          quickchartButtonEl.disabled = true;  // To prevent multiple clicks.\n",
              "          quickchartButtonEl.classList.add('colab-df-spinner');\n",
              "          try {\n",
              "            const charts = await google.colab.kernel.invokeFunction(\n",
              "                'suggestCharts', [key], {});\n",
              "          } catch (error) {\n",
              "            console.error('Error during call to suggestCharts:', error);\n",
              "          }\n",
              "          quickchartButtonEl.classList.remove('colab-df-spinner');\n",
              "          quickchartButtonEl.classList.add('colab-df-quickchart-complete');\n",
              "        }\n",
              "        (() => {\n",
              "          let quickchartButtonEl =\n",
              "            document.querySelector('#df-51df2d6b-4f87-46bb-a0ce-c0215774e472 button');\n",
              "          quickchartButtonEl.style.display =\n",
              "            google.colab.kernel.accessAllowed ? 'block' : 'none';\n",
              "        })();\n",
              "      </script>\n",
              "    </div>\n",
              "\n",
              "    </div>\n",
              "  </div>\n"
            ],
            "application/vnd.google.colaboratory.intrinsic+json": {
              "type": "dataframe",
              "variable_name": "train_returns",
              "summary": "{\n  \"name\": \"train_returns\",\n  \"rows\": 3521,\n  \"fields\": [\n    {\n      \"column\": [\n        \"Date\",\n        \"\"\n      ],\n      \"properties\": {\n        \"dtype\": \"date\",\n        \"min\": \"2010-01-05 00:00:00\",\n        \"max\": \"2023-12-29 00:00:00\",\n        \"num_unique_values\": 3521,\n        \"samples\": [\n          \"2019-10-10 00:00:00\",\n          \"2010-04-16 00:00:00\",\n          \"2011-06-07 00:00:00\"\n        ],\n        \"semantic_type\": \"\",\n        \"description\": \"\"\n      }\n    },\n    {\n      \"column\": [\n        \"Close\",\n        \"AAPL\"\n      ],\n      \"properties\": {\n        \"dtype\": \"number\",\n        \"std\": 0.017764364112724453,\n        \"min\": -0.12864687090574434,\n        \"max\": 0.1198079555354088,\n        \"num_unique_values\": 3516,\n        \"samples\": [\n          0.026598179608378736,\n          -0.006106260961914689,\n          -0.017749879611716146\n        ],\n        \"semantic_type\": \"\",\n        \"description\": \"\"\n      }\n    },\n    {\n      \"column\": [\n        \"Close\",\n        \"MSFT\"\n      ],\n      \"properties\": {\n        \"dtype\": \"number\",\n        \"std\": 0.016334207585479613,\n        \"min\": -0.1473900746830623,\n        \"max\": 0.14216902588306524,\n        \"num_unique_values\": 3493,\n        \"samples\": [\n          0.0016536211513897836,\n          -0.019162716949225445,\n          0.023271377498228496\n        ],\n        \"semantic_type\": \"\",\n        \"description\": \"\"\n      }\n    },\n    {\n      \"column\": [\n        \"High\",\n        \"AAPL\"\n      ],\n      \"properties\": {\n        \"dtype\": \"number\",\n        \"std\": 0.015061751821846003,\n        \"min\": -0.09565210894827147,\n        \"max\": 0.10506509961595834,\n        \"num_unique_values\": 3521,\n        \"samples\": [\n          0.011633588439075693,\n          0.008473060946703415,\n          -0.025443510440717354\n        ],\n        \"semantic_type\": \"\",\n        \"description\": \"\"\n      }\n    },\n    {\n      \"column\": [\n        \"High\",\n        \"MSFT\"\n      ],\n      \"properties\": {\n        \"dtype\": \"number\",\n        \"std\": 0.013673970680849534,\n        \"min\": -0.08971870949653427,\n        \"max\": 0.10459639242028396,\n        \"num_unique_values\": 3519,\n        \"samples\": [\n          0.006993765864885981,\n          0.000969402403874442,\n          -0.0032989661413819205\n        ],\n        \"semantic_type\": \"\",\n        \"description\": \"\"\n      }\n    },\n    {\n      \"column\": [\n        \"Low\",\n        \"AAPL\"\n      ],\n      \"properties\": {\n        \"dtype\": \"number\",\n        \"std\": 0.01735349722789663,\n        \"min\": -0.19893023641708352,\n        \"max\": 0.1302882786758668,\n        \"num_unique_values\": 3521,\n        \"samples\": [\n          0.007356893563526423,\n          -0.003910057264820077,\n          -0.017495575567697985\n        ],\n        \"semantic_type\": \"\",\n        \"description\": \"\"\n      }\n    },\n    {\n      \"column\": [\n        \"Low\",\n        \"MSFT\"\n      ],\n      \"properties\": {\n        \"dtype\": \"number\",\n        \"std\": 0.01448845791886255,\n        \"min\": -0.11925052991763041,\n        \"max\": 0.1095772896750109,\n        \"num_unique_values\": 3521,\n        \"samples\": [\n          0.009345349381490342,\n          -0.003581717104312654,\n          0.005469043041605337\n        ],\n        \"semantic_type\": \"\",\n        \"description\": \"\"\n      }\n    },\n    {\n      \"column\": [\n        \"Open\",\n        \"AAPL\"\n      ],\n      \"properties\": {\n        \"dtype\": \"number\",\n        \"std\": 0.01849282900171508,\n        \"min\": -0.14090398736242604,\n        \"max\": 0.17118175429119198,\n        \"num_unique_values\": 3521,\n        \"samples\": [\n          0.0039642325440041315,\n          0.011351757379326699,\n          -0.02178237494816393\n        ],\n        \"semantic_type\": \"\",\n        \"description\": \"\"\n      }\n    },\n    {\n      \"column\": [\n        \"Open\",\n        \"MSFT\"\n      ],\n      \"properties\": {\n        \"dtype\": \"number\",\n        \"std\": 0.015556123366227793,\n        \"min\": -0.10706436100600158,\n        \"max\": 0.10035757027859216,\n        \"num_unique_values\": 3521,\n        \"samples\": [\n          0.007493325508872051,\n          -0.0009732180294647064,\n          0.008371735573210026\n        ],\n        \"semantic_type\": \"\",\n        \"description\": \"\"\n      }\n    },\n    {\n      \"column\": [\n        \"Volume\",\n        \"AAPL\"\n      ],\n      \"properties\": {\n        \"dtype\": \"number\",\n        \"std\": 0.36237357307697116,\n        \"min\": -0.7122664984877404,\n        \"max\": 5.09052583862194,\n        \"num_unique_values\": 3521,\n        \"samples\": [\n          0.5114751291955104,\n          0.991974198534548,\n          0.1468671770346528\n        ],\n        \"semantic_type\": \"\",\n        \"description\": \"\"\n      }\n    },\n    {\n      \"column\": [\n        \"Volume\",\n        \"MSFT\"\n      ],\n      \"properties\": {\n        \"dtype\": \"number\",\n        \"std\": 0.4015352533178383,\n        \"min\": -0.8089786611258805,\n        \"max\": 6.234344672263947,\n        \"num_unique_values\": 3521,\n        \"samples\": [\n          -0.10609167641355144,\n          0.6817220079855304,\n          -0.24947835563823162\n        ],\n        \"semantic_type\": \"\",\n        \"description\": \"\"\n      }\n    }\n  ]\n}"
            }
          },
          "metadata": {},
          "execution_count": 4
        }
      ]
    },
    {
      "cell_type": "markdown",
      "source": [
        "Step 2: Markowitz Portfolio Construction"
      ],
      "metadata": {
        "id": "BlWhV6FKIu7Q"
      }
    },
    {
      "cell_type": "markdown",
      "source": [
        "2.1 Compute Dynamic Covariance Matrices with EWMA"
      ],
      "metadata": {
        "id": "yeGC5_k-JAl3"
      }
    },
    {
      "cell_type": "code",
      "source": [
        "def ewma_covariance_matrix(returns, lambda_=0.94):\n",
        "    cov_matrices = []\n",
        "    cov = returns.cov().values  # Initialize covariance matrix\n",
        "    for t in range(len(returns)):\n",
        "        r = returns.iloc[t].values.reshape(-1, 1)\n",
        "        cov = lambda_ * cov + (1 - lambda_) * (r @ r.T)\n",
        "        cov_matrices.append(cov)\n",
        "    return cov_matrices\n",
        "\n",
        "train_covs = ewma_covariance_matrix(train_returns)\n",
        "print(f\"Computed {len(train_covs)} dynamic covariance matrices for training data.\")\n"
      ],
      "metadata": {
        "colab": {
          "base_uri": "https://localhost:8080/"
        },
        "id": "hySB-fSBGIFK",
        "outputId": "c45d3894-8097-4b17-c3f5-9591ef94fa79"
      },
      "execution_count": 5,
      "outputs": [
        {
          "output_type": "stream",
          "name": "stdout",
          "text": [
            "Computed 3521 dynamic covariance matrices for training data.\n"
          ]
        }
      ]
    },
    {
      "cell_type": "markdown",
      "source": [
        "2.2 Calculate Daily Minimum Variance Portfolio Weights"
      ],
      "metadata": {
        "id": "xzqrlSQFJFjJ"
      }
    },
    {
      "cell_type": "code",
      "source": [
        "# Sanity check: how many assets?\n",
        "n_assets = train_returns.shape[1]\n",
        "weights = []\n",
        "\n",
        "# Calculate weights for each dynamic covariance matrix\n",
        "for i, cov in enumerate(train_covs):\n",
        "    try:\n",
        "        # Compute inverse covariance\n",
        "        inv_cov = np.linalg.inv(cov)\n",
        "        ones = np.ones((n_assets, 1))\n",
        "\n",
        "        # Minimum variance weights: w = Σ⁻¹1 / (1ᵗΣ⁻¹1)\n",
        "        w = inv_cov @ ones\n",
        "        w /= ones.T @ inv_cov @ ones\n",
        "\n",
        "        weights.append(w.flatten())\n",
        "    except np.linalg.LinAlgError:\n",
        "        print(f\"Skipped day {i} due to singular matrix\")\n",
        "        weights.append(np.full(n_assets, 1/n_assets))  # fallback: equally weighted\n",
        "\n",
        "# Show first few weights\n",
        "for i in range(5):\n",
        "    print(f\"Day {i+1}: {weights[i]}\")\n"
      ],
      "metadata": {
        "colab": {
          "base_uri": "https://localhost:8080/"
        },
        "id": "Ge8tdHc0GnKT",
        "outputId": "28eaee00-f165-456a-871e-51498dbf27ad"
      },
      "execution_count": 7,
      "outputs": [
        {
          "output_type": "stream",
          "name": "stdout",
          "text": [
            "Day 1: [ 0.0539938   0.132463    0.28802318  0.21588791  0.01743099  0.12027265\n",
            " -0.00611084  0.17644874  0.00056984  0.00102074]\n",
            "Day 2: [ 3.26722217e-02  1.42503801e-01  3.21273680e-01  2.04769908e-01\n",
            "  6.42921421e-03  1.22240127e-01 -1.16373508e-02  1.80450856e-01\n",
            " -3.64198642e-06  1.30118374e-03]\n",
            "Day 3: [ 1.51513839e-01  9.68611107e-02  1.88343808e-01  2.29440879e-01\n",
            " -1.56237565e-02  1.00953051e-01  2.89202156e-02  2.18514701e-01\n",
            "  1.83558585e-04  8.92592878e-04]\n",
            "Day 4: [ 1.49397721e-01  1.00782955e-01  1.89940537e-01  2.23169832e-01\n",
            " -1.45755752e-02  9.75556595e-02  2.79704041e-02  2.24677926e-01\n",
            "  1.89543234e-04  8.90996989e-04]\n",
            "Day 5: [ 0.1504191   0.09942762  0.18447131  0.23183883 -0.01051081  0.09864654\n",
            "  0.02762993  0.21701722  0.00033198  0.00072827]\n"
          ]
        }
      ]
    },
    {
      "cell_type": "markdown",
      "source": [
        "2.3 Compute Portfolio Values and Rebalancing Quantities (Simplified Example)"
      ],
      "metadata": {
        "id": "tVM41eLwJJ7H"
      }
    },
    {
      "cell_type": "code",
      "source": [
        "initial_capital = 1000000  # 1 million dollars\n",
        "portfolio_values = [initial_capital]\n",
        "positions = [weights[0] * initial_capital / train_returns.iloc[0].values]  # Initial quantity of shares\n",
        "\n",
        "for t in range(1, len(train_returns)):\n",
        "    # Calculate portfolio value at day t-1\n",
        "    prices = data.loc[train_returns.index[t]].values\n",
        "    portfolio_value = np.sum(positions[-1] * prices)\n",
        "    portfolio_values.append(portfolio_value)\n",
        "\n",
        "    # Calculate new positions according to weights and portfolio value\n",
        "    new_positions = weights[t] * portfolio_value / prices\n",
        "\n",
        "    positions.append(new_positions)\n",
        "\n",
        "print(f\"Portfolio value on first training day: {portfolio_values[0]:.2f}\")\n",
        "print(f\"Portfolio value on last training day: {portfolio_values[-1]:.2f}\")\n"
      ],
      "metadata": {
        "colab": {
          "base_uri": "https://localhost:8080/"
        },
        "id": "oLBqdSGNGyZf",
        "outputId": "67b4d9e0-9cbb-44ba-892a-d1b84dfe4de7"
      },
      "execution_count": 8,
      "outputs": [
        {
          "output_type": "stream",
          "name": "stdout",
          "text": [
            "Portfolio value on first training day: 1000000.00\n",
            "Portfolio value on last training day: 1649688513750219.75\n"
          ]
        }
      ]
    },
    {
      "cell_type": "markdown",
      "source": [
        "Step 3: Stress Testing Framework"
      ],
      "metadata": {
        "id": "osP25n08JPUS"
      }
    },
    {
      "cell_type": "markdown",
      "source": [
        "\n",
        "3.1 Compute Daily VaR and Expected Shortfall under Normal Conditions"
      ],
      "metadata": {
        "id": "jvsKBJfdJegm"
      }
    },
    {
      "cell_type": "code",
      "source": [
        "VaR_list = []\n",
        "ES_list = []\n",
        "\n",
        "for i in range(len(train_returns)):\n",
        "    mu = np.dot(weights[i], train_returns.iloc[i])\n",
        "    sigma = np.sqrt(weights[i].T @ train_returns.cov().values @ weights[i])\n",
        "    VaR = norm.ppf(0.05, mu, sigma)\n",
        "    ES = mu - sigma * norm.pdf(norm.ppf(0.05)) / 0.05\n",
        "    VaR_list.append(VaR)\n",
        "    ES_list.append(ES)\n",
        "\n",
        "print(f\"Sample VaR and ES on first training day: VaR={VaR_list[0]:.5f}, ES={ES_list[0]:.5f}\")\n"
      ],
      "metadata": {
        "colab": {
          "base_uri": "https://localhost:8080/"
        },
        "id": "D4YUcFMlG3aV",
        "outputId": "9b08bb71-e49d-4326-c209-08d9609aa8e2"
      },
      "execution_count": 9,
      "outputs": [
        {
          "output_type": "stream",
          "name": "stdout",
          "text": [
            "Sample VaR and ES on first training day: VaR=-0.01570, ES=-0.02060\n"
          ]
        }
      ]
    },
    {
      "cell_type": "markdown",
      "source": [
        "\n",
        "3.2 (Optional) Implement a Simple Stress Scenario: Volatility Spike"
      ],
      "metadata": {
        "id": "I-HIVOHOPTJY"
      }
    },
    {
      "cell_type": "code",
      "source": [
        "stress_factor = 3  # Triple volatility during stress\n",
        "\n",
        "stress_VaR = []\n",
        "stress_ES = []\n",
        "\n",
        "for i in range(len(train_returns)):\n",
        "    mu = np.dot(weights[i], train_returns.iloc[i])\n",
        "    sigma = np.sqrt(weights[i].T @ train_returns.cov().values @ weights[i])\n",
        "    sigma_stress = sigma * stress_factor\n",
        "    VaR_s = norm.ppf(0.05, mu, sigma_stress)\n",
        "    ES_s = mu - sigma_stress * norm.pdf(norm.ppf(0.05)) / 0.05\n",
        "    stress_VaR.append(VaR_s)\n",
        "    stress_ES.append(ES_s)\n",
        "\n",
        "print(f\"Stress VaR on first training day: {stress_VaR[0]:.5f}\")\n"
      ],
      "metadata": {
        "colab": {
          "base_uri": "https://localhost:8080/"
        },
        "id": "XrQPEDCUHA8K",
        "outputId": "aea54ef6-faf2-4fd6-b6e3-82b8e048a1ea"
      },
      "execution_count": 10,
      "outputs": [
        {
          "output_type": "stream",
          "name": "stdout",
          "text": [
            "Stress VaR on first training day: -0.05427\n"
          ]
        }
      ]
    },
    {
      "cell_type": "markdown",
      "source": [
        "Step 4: Model Evaluation and Backtesting"
      ],
      "metadata": {
        "id": "nnSTTX34PcPT"
      }
    },
    {
      "cell_type": "markdown",
      "source": [
        "4.1 Backtest VaR and ES on Test Set"
      ],
      "metadata": {
        "id": "ozt9YHuNPiOc"
      }
    },
    {
      "cell_type": "code",
      "source": [
        "from scipy.stats import norm\n",
        "\n",
        "rolling_window = 250  # One year of trading days\n",
        "test_dates = test_returns.index[rolling_window:]\n",
        "\n",
        "test_VaR = []\n",
        "test_ES = []\n",
        "test_weights = []\n",
        "\n",
        "for t in range(rolling_window, len(test_returns)):\n",
        "    try:\n",
        "        # Get rolling window of past returns\n",
        "        r_window = test_returns.iloc[t - rolling_window:t]\n",
        "        cov = r_window.cov().values\n",
        "        mu = r_window.mean().values\n",
        "        n_assets = len(mu)\n",
        "\n",
        "        # Compute min-variance weights\n",
        "        inv_cov = np.linalg.inv(cov)\n",
        "        ones = np.ones((n_assets, 1))\n",
        "        w = inv_cov @ ones\n",
        "        w /= ones.T @ inv_cov @ ones\n",
        "        w = w.flatten()\n",
        "\n",
        "        # Save weights for later if needed\n",
        "        test_weights.append(w)\n",
        "\n",
        "        # Compute portfolio mean and std dev\n",
        "        port_mu = np.dot(w, mu)\n",
        "        port_sigma = np.sqrt(w.T @ cov @ w)\n",
        "\n",
        "        # Compute 95% VaR and ES under normal assumption\n",
        "        VaR = norm.ppf(0.05, loc=port_mu, scale=port_sigma)\n",
        "        ES = port_mu - port_sigma * norm.pdf(norm.ppf(0.05)) / 0.05\n",
        "\n",
        "        test_VaR.append(VaR)\n",
        "        test_ES.append(ES)\n",
        "\n",
        "    except np.linalg.LinAlgError:\n",
        "        print(f\"Day {t}: Covariance matrix not invertible, skipping.\")\n",
        "        test_VaR.append(np.nan)\n",
        "        test_ES.append(np.nan)\n",
        "\n",
        "print(f\"Backtest finished. {len(test_VaR)} daily VaR estimates computed.\")\n"
      ],
      "metadata": {
        "colab": {
          "base_uri": "https://localhost:8080/"
        },
        "id": "0msiGbMaHsgq",
        "outputId": "371369e1-266a-4777-d7b5-b2f7b041fd0e"
      },
      "execution_count": 12,
      "outputs": [
        {
          "output_type": "stream",
          "name": "stdout",
          "text": [
            "Backtest finished. 100 daily VaR estimates computed.\n"
          ]
        }
      ]
    },
    {
      "cell_type": "markdown",
      "source": [
        "plot VaR:"
      ],
      "metadata": {
        "id": "-XX8RBtgPt8t"
      }
    },
    {
      "cell_type": "code",
      "source": [
        "import matplotlib.pyplot as plt\n",
        "\n",
        "plt.figure(figsize=(12,6))\n",
        "plt.plot(test_dates, test_VaR, label='95% VaR', color='red')\n",
        "plt.title(\"Backtested VaR on Test Set (2024–2025)\")\n",
        "plt.xlabel(\"Date\")\n",
        "plt.ylabel(\"Value at Risk\")\n",
        "plt.grid(True)\n",
        "plt.legend()\n",
        "plt.tight_layout()\n",
        "plt.show()\n"
      ],
      "metadata": {
        "colab": {
          "base_uri": "https://localhost:8080/",
          "height": 472
        },
        "id": "vq8E7znzPtWJ",
        "outputId": "ab6598f1-9a51-44fe-d60f-607d85a35e9d"
      },
      "execution_count": 15,
      "outputs": [
        {
          "output_type": "display_data",
          "data": {
            "text/plain": [
              "<Figure size 1200x600 with 1 Axes>"
            ],
            "image/png": "[encoded data removed]"
          },
          "metadata": {}
        }
      ]
    },
    {
      "cell_type": "markdown",
      "source": [
        "4.2 Visualize VaR over the Test Period"
      ],
      "metadata": {
        "id": "OZ36EWdGS53C"
      }
    },
    {
      "cell_type": "code",
      "source": [
        "plt.figure(figsize=(12,6))\n",
        "plt.plot(test_VaR, label='VaR (95%)')\n",
        "plt.title('Dynamic Value at Risk on Test Set (2024-2025)')\n",
        "plt.xlabel('Days')\n",
        "plt.ylabel('VaR')\n",
        "plt.legend()\n",
        "plt.grid(True)\n",
        "plt.show()\n"
      ],
      "metadata": {
        "colab": {
          "base_uri": "https://localhost:8080/",
          "height": 504
        },
        "id": "uL8jH5MpS9Ys",
        "outputId": "b12067c4-c9c2-4d7d-e56c-81dc421c0c66"
      },
      "execution_count": 16,
      "outputs": [
        {
          "output_type": "display_data",
          "data": {
            "text/plain": [
              "<Figure size 1200x600 with 1 Axes>"
            ],
            "image/png": "[encoded data removed]"
          },
          "metadata": {}
        }
      ]
    }
  ]
}